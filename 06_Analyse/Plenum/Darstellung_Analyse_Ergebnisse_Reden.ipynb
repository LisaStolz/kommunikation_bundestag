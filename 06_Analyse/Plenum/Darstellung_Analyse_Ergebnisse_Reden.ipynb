{
 "cells": [
  {
   "cell_type": "code",
   "execution_count": null,
   "metadata": {},
   "outputs": [],
   "source": [
    "import pickle, gensim, numpy as np\n",
    "\n",
    "PICKLE_FOLDER_PATH = '/home/lisa/Darmstadt/Master Arbeit/06_Analyse/Plenum/pickle_TUWien_plenar/'\n",
    "# pickle.dump(df_kommentar, open(PICKLE_FOLDER_PATH + 'Plenum_Kom_Wien', \"wb\" ))\n",
    "\n",
    "#df_kom_Wien = pickle.load(open(PICKLE_FOLDER_PATH + 'Plenum_Kom_Wien', \"rb\" ))\n",
    "df_Reden_TB = pickle.load(open(PICKLE_FOLDER_PATH + 'Plenum_Rede_Sent_TB', \"rb\" ))\n",
    "df_Reden_BE = pickle.load(open(PICKLE_FOLDER_PATH + 'df_rel_Rede_BE', \"rb\" ))\n",
    "df_kom = pickle.load(open(PICKLE_FOLDER_PATH + 'Plenum_Kom_all_Sent', \"rb\" ))"
   ]
  },
  {
   "cell_type": "markdown",
   "metadata": {},
   "source": [
    "# Füge Sent DataFrames zusammen"
   ]
  },
  {
   "cell_type": "code",
   "execution_count": null,
   "metadata": {},
   "outputs": [],
   "source": [
    "# Füge dem df BE (Sent Basic Emo) noch die Textblob Sentiments (category)\n",
    "df_Reden_TB.columns = ['Rede_ID', 'Text', 'Polarity', 'Subjectivity', 'category']\n",
    "df_Reden_BE['category'] = 'NaN'\n",
    "\n",
    "#for ID in df_Reden_BE['Rede_ID']:\n",
    "#    df_Reden_BE['Rede_ID'] = str(ID)\n",
    "#for ID in df_Reden_TB['Rede_ID']:\n",
    "#    df_Reden_TB['Rede_ID'] = str(ID)\n",
    "    \n",
    "\n",
    "for ID, i in zip(df_Reden_BE['Rede_ID'], range(0,len(df_Reden_BE['Rede_ID']))):\n",
    "    print(ID)\n",
    "    if ID in np.array(df_Reden_TB['Rede_ID']):\n",
    "        df_Reden_BE['category'][i] = df_Reden_TB['category'][df_Reden_TB[df_Reden_TB['Rede_ID']==ID].index[0]]\n",
    "    else:\n",
    "        print('Ich finde diese ID nicht: '+ID)\n",
    "        \n",
    "#df_Reden_BE['category'][17085] = df_Reden_TB['category'][df_Reden_TB[df_Reden_TB['Rede_ID']=='ID199907200'].index[0]]"
   ]
  },
  {
   "cell_type": "code",
   "execution_count": null,
   "metadata": {},
   "outputs": [],
   "source": [
    "df_Reden_TB[df_Reden_TB['Rede_ID']=='ID199907200'].index[0]\n",
    "df_Reden_BE['category'][17085] = df_Reden_TB['category'][df_Reden_TB[df_Reden_TB['Rede_ID']=='ID199907200'].index[0]]"
   ]
  },
  {
   "cell_type": "code",
   "execution_count": null,
   "metadata": {},
   "outputs": [],
   "source": [
    "# Füge dem df BE (Sent Basic Emo) neben category noch die Wien Sentiments (predict) hinzu\n",
    "#df_kom_BE['predict'] = 'NaN'\n",
    "\n",
    "#for t, i in zip(df_kom_BE['Text'], range(0,len(df_kom_BE['Text']))):\n",
    "#    print(i)\n",
    "#    if t in np.array(df_kom_Wien['Text']):\n",
    "#        df_kom_BE['predict'][i] = df_kom_Wien['predict'][df_kom_Wien[df_kom_Wien['Text']==t].index[0]]\n",
    "#    else:\n",
    "#         print('Ich finde diesen Satz nicht: '+t)"
   ]
  },
  {
   "cell_type": "code",
   "execution_count": null,
   "metadata": {},
   "outputs": [],
   "source": [
    "df_Reden_BE.tail()\n",
    "df_Reden_TB[df_Reden_TB['Rede_ID'] == 'ID199906800']"
   ]
  },
  {
   "cell_type": "code",
   "execution_count": null,
   "metadata": {},
   "outputs": [],
   "source": [
    "df_Reden_BE.columns\n",
    "\n",
    "df_Reden_BE = df_Reden_BE[df_Reden_BE['Fraktion'] != 'fraktionslos']\n",
    "df_Reden_BE = df_Reden_BE[df_Reden_BE['Fraktion'] != 'Fraktionslos']\n",
    "df_Reden_BE = df_Reden_BE[df_Reden_BE['Fraktion'] != 'NaN']\n",
    "df_red = df_Reden_BE\n",
    "len(df_red)"
   ]
  },
  {
   "cell_type": "markdown",
   "metadata": {},
   "source": [
    "# Speichern und laden des Datensatzes"
   ]
  },
  {
   "cell_type": "code",
   "execution_count": null,
   "metadata": {},
   "outputs": [],
   "source": [
    "import pickle, gensim, numpy as np\n",
    "import pandas as pd \n",
    "\n",
    "PICKLE_FOLDER_PATH = '/home/lisa/Darmstadt/Master Arbeit/06_Analyse/Plenum/pickle_TUWien_plenar/'\n",
    "pickle.dump(df_red, open(PICKLE_FOLDER_PATH + 'Plenum_Rede_all_Sent', \"wb\" ))\n",
    "\n",
    "df_red = pickle.load(open(PICKLE_FOLDER_PATH + 'Plenum_Rede_all_Sent', \"rb\" ))"
   ]
  },
  {
   "cell_type": "code",
   "execution_count": null,
   "metadata": {},
   "outputs": [],
   "source": [
    "len(df_Reden_BE)"
   ]
  },
  {
   "cell_type": "code",
   "execution_count": null,
   "metadata": {},
   "outputs": [],
   "source": [
    "save_df = df_Reden_BE"
   ]
  },
  {
   "cell_type": "code",
   "execution_count": null,
   "metadata": {},
   "outputs": [],
   "source": [
    "save_df['category'].tail()\n",
    "save_df.loc[save_df['category']=='NaN']\n",
    "#save_df.tail()"
   ]
  },
  {
   "cell_type": "code",
   "execution_count": null,
   "metadata": {},
   "outputs": [],
   "source": [
    "#df_Reden_BE[df_Reden_BE['Rede_ID'] == 'ID199906800']['category']\n",
    "df_Reden_BE[df_Reden_BE['category']=='NaN']['Rede_ID']"
   ]
  },
  {
   "cell_type": "code",
   "execution_count": null,
   "metadata": {},
   "outputs": [],
   "source": [
    "pd.set_option('display.max_rows', None)\n",
    "pd.set_option('display.max_colwidth', None)\n",
    "#df_red[df_red['Beschreibung2']=='Keine Entschädigungen an Nachkommen der Monarchie']\n",
    "df_red = df_red[['Rede_ID','Datum', 'Beschreibung1', 'Beschreibung2', 'Fraktion','Nachname',\n",
    "        'Ekel', 'Freude', 'Furcht', 'Trauer', 'Ueberraschung',\n",
    "        'Verachtung', 'Wut', 'category', 'word_count', 'Monat', 'Woche']]\n",
    "\n",
    "df_red.tail(100)"
   ]
  },
  {
   "cell_type": "markdown",
   "metadata": {},
   "source": [
    "# Grafische Darstellung"
   ]
  },
  {
   "cell_type": "markdown",
   "metadata": {},
   "source": [
    "### Pivot - Relativ und Absolut - Über die Zeit/ Namen/ Themen"
   ]
  },
  {
   "cell_type": "code",
   "execution_count": null,
   "metadata": {},
   "outputs": [],
   "source": [
    "pd.set_option('display.max_colwidth', None)\n",
    "mdp_partei.loc[\n",
    "    (mdp_partei['category'] == 'negative')\n",
    "                                & \n",
    "    (mdp_partei['predict'] == 'OFFENSE')\n",
    "                                & \n",
    "    (mdp_partei['Monat'] == '18-11')\n",
    "                               ]"
   ]
  },
  {
   "cell_type": "markdown",
   "metadata": {},
   "source": [
    "## Textblob Ergebnisse in Graf"
   ]
  },
  {
   "cell_type": "code",
   "execution_count": null,
   "metadata": {},
   "outputs": [],
   "source": [
    "import matplotlib.pyplot as plt\n",
    "import matplotlib.dates as mdates\n",
    "import pandas as pd\n",
    "import numpy as np\n",
    "\n",
    "Fraktion = ''\n",
    "category = ['negative', 'neutral', 'positive']\n",
    "mdp_partei = df_red\n",
    "#[\n",
    " #   (df_kom['predict'] == 'OFFENSE')\n",
    " #                               & \n",
    " #   (mdp_partei['Monat'] == '18-11')\n",
    " #                              ]\n",
    "#[\n",
    "    #(df_kom['Partei']!='DIE_LINKE')&\n",
    "#    (df_kom['Fraktion']==Fraktion)]\n",
    "\n",
    "plt.style.use('seaborn-darkgrid')\n",
    "my_palette = ['blue', 'green', 'black', 'purple', 'orange', 'red']\n",
    "\n",
    "fig = plt.figure(figsize = (20, 15))\n",
    "fig.suptitle('Reaktionen während '+Fraktion+ ' Reden', fontsize = 20, weight = 'bold')\n",
    "\n",
    "\n",
    "mdp_partei_denom = mdp_partei.loc[(mdp_partei['Datum'] >= datetime.date(2017,10,25))]\n",
    "partei_piv_TB_denom = pd.pivot_table(mdp_partei_denom, columns = ['Fraktion'], index = ['Monat'], aggfunc = np.count_nonzero)\n",
    "partei_piv_TB_denom = partei_piv_TB_denom['Beschreibung1']\n",
    "\n",
    "for cat, n in zip(category, range(1,len(category)+1)):\n",
    "    mdp_partei_nom = mdp_partei.loc[(mdp_partei['category'] == cat) & (mdp_partei['Datum'] >= datetime.date(2017,10,25))]\n",
    "    partei_piv_TB_nom = pd.pivot_table(mdp_partei_nom, columns = ['Fraktion'], index = ['Monat'], aggfunc = np.count_nonzero)\n",
    "    partei_piv_TB_nom = partei_piv_TB_nom['Beschreibung1']\n",
    "    \n",
    "    partei_piv_TB_rel = (partei_piv_TB_nom/partei_piv_TB_denom) * 100\n",
    "    partei_piv_TB_rel = partei_piv_TB_rel.fillna(0).round()\n",
    "\n",
    "\n",
    "###############  plot #################\n",
    "    partei_piv_TB_rel = partei_piv_TB_nom.fillna(0)\n",
    "    ax = fig.add_subplot(3,1,n)\n",
    "\n",
    "    num=0\n",
    "    for column in partei_piv_TB_rel:\n",
    "        ax.plot(partei_piv_TB_rel.index, partei_piv_TB_rel[column], color = my_palette[num], alpha=0.8, label = column)\n",
    "        num+=1\n",
    "\n",
    "    ax.plot(partei_piv_TB_rel.index, partei_piv_TB_rel['AfD'], marker='', color='blue', linewidth=4, alpha=0.7)\n",
    "\n",
    "    ax.set_title('Übersicht der TB relativen Häufigkeit von \"' + cat + '-Zurufen\"', size = 20)\n",
    "    ylab = ax.set_ylabel(cat +'/ alle Zurufe ', size = 20)\n",
    "    #ax.set_ylim(0, 100)\n",
    "    \n",
    "    if n <= 2:\n",
    "        plt.setp(ax.get_xticklabels(), visible=False)\n",
    "    else:\n",
    "        x_tags = plt.xticks(partei_piv_TB_rel.index, fontsize = 14, rotation = 45, ha = \"right\")\n",
    "        plt.legend(loc = 2, ncol = 6, fontsize = 17)\n",
    "\n",
    "\n"
   ]
  },
  {
   "cell_type": "code",
   "execution_count": null,
   "metadata": {},
   "outputs": [],
   "source": [
    "pd.pivot_table(df_red, columns = ['category'], index = ['Fraktion'], aggfunc = np.count_nonzero)['Beschreibung1']\n",
    "#df_red['category']"
   ]
  },
  {
   "cell_type": "code",
   "execution_count": null,
   "metadata": {},
   "outputs": [],
   "source": [
    "df_red[df_red['Rede_ID'] == 'ID196001900']"
   ]
  },
  {
   "cell_type": "markdown",
   "metadata": {},
   "source": [
    "## Ergebnisse nach TU Wien Methode als Graf"
   ]
  },
  {
   "cell_type": "code",
   "execution_count": null,
   "metadata": {},
   "outputs": [],
   "source": [
    "import matplotlib.pyplot as plt\n",
    "import matplotlib.dates as mdates\n",
    "import pandas as pd\n",
    "import numpy as np\n",
    "\n",
    "Fraktion = ''\n",
    "category = ['OTHER', 'OFFENSE']\n",
    "mdp_partei = df_kom\n",
    "#[\n",
    "#    (df_kom['category'] == 'negative')\n",
    "#              ]\n",
    "#[\n",
    "#     (df_kom['Partei']!='DIE_LINKE')&\n",
    "#                      (df_kom['Fraktion']==Fraktion)\n",
    "#                      ]\n",
    "\n",
    "plt.style.use('seaborn-darkgrid')\n",
    "my_palette = ['blue', 'green', 'black', 'purple', 'orange', 'red']\n",
    "\n",
    "fig = plt.figure(figsize = (20, 15))\n",
    "fig.suptitle('Reaktionen während '+Fraktion+ ' Reden', fontsize = 20, weight = 'bold')\n",
    "\n",
    "mdp_partei_denom = mdp_partei.loc[(mdp_partei['Datum'] >= datetime.date(2017,10,25))]\n",
    "partei_piv_TB_denom = pd.pivot_table(mdp_partei_denom, columns = ['Partei'], index = ['Monat'], aggfunc = np.count_nonzero)\n",
    "partei_piv_TB_denom = partei_piv_TB_denom['Datum']\n",
    "\n",
    "for cat, n in zip(category, range(1,len(category)+1)):\n",
    "    mdp_partei_nom = mdp_partei.loc[(mdp_partei['predict'] == cat) & (mdp_partei['Datum'] >= datetime.date(2017,10,25))]\n",
    "    partei_piv_TB_nom = pd.pivot_table(mdp_partei_nom, columns = ['Partei'], index = ['Monat'], aggfunc = np.count_nonzero)\n",
    "    partei_piv_TB_nom = partei_piv_TB_nom['Datum']\n",
    "    \n",
    "    partei_piv_TB_rel = (partei_piv_TB_nom/partei_piv_TB_denom) * 100\n",
    "    partei_piv_TB_rel = partei_piv_TB_rel.fillna(0).round()\n",
    "\n",
    "\n",
    "###############  plot #################\n",
    "    partei_piv_TB_rel = partei_piv_TB_nom.fillna(0)\n",
    "    ax = fig.add_subplot(2,1,n)\n",
    "\n",
    "    num=0\n",
    "    for column in partei_piv_TB_rel:\n",
    "        ax.plot(partei_piv_TB_rel.index, partei_piv_TB_rel[column], color = my_palette[num], alpha=0.8, label = column)\n",
    "        num+=1\n",
    "\n",
    "    ax.plot(partei_piv_TB_rel.index, partei_piv_TB_rel['AfD'], marker='', color='blue', linewidth=4, alpha=0.7)\n",
    "\n",
    "    ax.set_title('Übersicht der relativen Häufigkeit von \"' + cat + '-Zurufen\"', size = 20)\n",
    "    ylab = ax.set_ylabel(cat +'/ alle Zurufe ', size = 20)\n",
    "    #ax.set_ylim(0, 100)\n",
    "    \n",
    "    if n <= 1:\n",
    "        plt.setp(ax.get_xticklabels(), visible=False)\n",
    "    else:\n",
    "        x_tags = plt.xticks(partei_piv_TB_rel.index, fontsize = 14, rotation = 45, ha = \"right\")\n",
    "        plt.legend(loc = 2, ncol = 6, fontsize = 17)\n",
    "\n",
    "\n",
    "# Sitzung am 24.07.19 fand als Ausweichlösung im Paul-Löbe-Haus statt und war deutlich kürzer "
   ]
  },
  {
   "cell_type": "code",
   "execution_count": null,
   "metadata": {},
   "outputs": [],
   "source": [
    "import matplotlib.pyplot as plt\n",
    "import matplotlib.dates as mdates\n",
    "import pandas as pd\n",
    "import numpy as np\n",
    "\n",
    "Fraktion = ''\n",
    "category = ['OTHER', 'OFFENSE']\n",
    "mdp_partei = df_kom\n",
    "#[\n",
    "#     (df_kom['Partei']!='DIE_LINKE')&\n",
    "#                      (df_kom['Fraktion']==Fraktion)\n",
    "#                      ]\n",
    "\n",
    "plt.style.use('seaborn-darkgrid')\n",
    "my_palette = ['blue', 'green', 'black', 'purple', 'orange', 'red']\n",
    "\n",
    "fig = plt.figure(figsize = (20, 15))\n",
    "fig.suptitle('Reaktionen während '+Fraktion+ ' Reden', fontsize = 20, weight = 'bold')\n",
    "\n",
    "mdp_partei_denom = mdp_partei.loc[(mdp_partei['Datum'] >= datetime.date(2017,10,25))]\n",
    "partei_piv_TB_denom = pd.pivot_table(mdp_partei_denom, columns = ['Partei'], index = ['Monat'], aggfunc = np.count_nonzero)\n",
    "partei_piv_TB_denom = partei_piv_TB_denom['Datum']\n",
    "\n",
    "for cat, n in zip(category, range(1,len(category)+1)):\n",
    "    mdp_partei_nom = mdp_partei.loc[(mdp_partei['predict'] == cat) & (mdp_partei['Datum'] >= datetime.date(2017,10,25))]\n",
    "    partei_piv_TB_nom = pd.pivot_table(mdp_partei_nom, columns = ['Partei'], index = ['Monat'], aggfunc = np.count_nonzero)\n",
    "    partei_piv_TB_nom = partei_piv_TB_nom['Datum']\n",
    "    \n",
    "    partei_piv_TB_rel = (partei_piv_TB_nom/partei_piv_TB_denom) * 100\n",
    "    partei_piv_TB_rel = partei_piv_TB_rel.fillna(0).round()\n",
    "\n",
    "\n",
    "###############  plot #################\n",
    "    #partei_piv_TB_rel = partei_piv_TB_nom.fillna(0)\n",
    "    ax = fig.add_subplot(2,1,n)\n",
    "\n",
    "    num=0\n",
    "    for column in partei_piv_TB_rel:\n",
    "        ax.plot(partei_piv_TB_rel.index, partei_piv_TB_rel[column], color = my_palette[num], alpha=0.8, label = column)\n",
    "        num+=1\n",
    "\n",
    "    ax.plot(partei_piv_TB_rel.index, partei_piv_TB_rel['AfD'], marker='', color='blue', linewidth=4, alpha=0.7)\n",
    "\n",
    "    ax.set_title('Übersicht der relativen Häufigkeit von \"' + cat + '-Zurufen\"', size = 20)\n",
    "    ylab = ax.set_ylabel(cat +'/ alle Zurufe ', size = 20)\n",
    "    #ax.set_ylim(0, 100)\n",
    "    \n",
    "    if n <= 1:\n",
    "        plt.setp(ax.get_xticklabels(), visible=False)\n",
    "    else:\n",
    "        x_tags = plt.xticks(partei_piv_TB_rel.index, fontsize = 14, rotation = 45, ha = \"right\")\n",
    "        plt.legend(loc = 2, ncol = 6, fontsize = 17)\n",
    "\n",
    "\n"
   ]
  },
  {
   "cell_type": "markdown",
   "metadata": {},
   "source": [
    "## Ergebnisse nach Basic Emo als Graf"
   ]
  },
  {
   "cell_type": "code",
   "execution_count": null,
   "metadata": {},
   "outputs": [],
   "source": [
    "mdp_partei_emo = df_kom\n",
    "partei_piv_emo = pd.pivot_table(mdp_partei_emo, columns = ['Partei'], index = ['Monat'], aggfunc = np.count_nonzero)\n",
    "\n",
    "emotion = ['Ekel', 'Freude', 'Furcht', 'Trauer', 'Ueberraschung', 'Verachtung', 'Wut']\n",
    "\n",
    "partei_piv_emo_rel = partei_piv_emo[['Ekel', 'Freude', 'Furcht', 'Trauer', 'Ueberraschung', 'Verachtung', 'Wut']]\n",
    "partei_piv_emo_denom = partei_piv_emo['Beschreibung1']\n",
    "\n",
    "for emo in emotion:\n",
    "    partei_piv_emo_rel[emo] = partei_piv_emo[emo]/partei_piv_emo_denom\n",
    "    \n",
    "# Welche Relativierung richtig_\n",
    "# - Anteil an allen Zurfen in einem Monat (über Parteien hinweg)\n",
    "# - Anteil dieser Emotion an allen Zurufen dieser Partei\n",
    "# - Anteil dieser Emotion an allen Zurufen\n",
    "\n",
    "#partei_piv_emo_rel\n",
    "#=partei_piv_emo"
   ]
  },
  {
   "cell_type": "code",
   "execution_count": null,
   "metadata": {},
   "outputs": [],
   "source": [
    "pd.set_option('display.max_rows', None)\n",
    "import matplotlib.pyplot as plt\n",
    "import matplotlib.dates as mdates\n",
    "import pandas as pd\n",
    "import numpy as np\n",
    "\n",
    "plt.style.use('seaborn-darkgrid')\n",
    "my_palette = ['blue', 'green', 'black', 'purple', 'orange', 'red']\n",
    "fig = plt.figure(figsize = (18, 15))\n",
    "fig.tight_layout()\n",
    "fig.suptitle('Emotionen in allen Kommentaren', fontsize = 20, weight = 'bold')\n",
    "\n",
    "for emo, n in zip(emotion, range(1,len(emotion)+1)):\n",
    "    ax = fig.add_subplot(4,2,n)\n",
    "    \n",
    "    num=0\n",
    "    for column in partei_piv_emo_rel[emo]:\n",
    "        ax.plot(partei_piv_emo_rel.index, partei_piv_emo_rel[emo][column], color = my_palette[num], alpha=0.8, label = column)\n",
    "        num+=1\n",
    "#     ax.plot(partei_piv_emo_rel.index, partei_piv_emo_rel[emo]['AfD'], marker='', color='blue', linewidth=4, alpha=0.7)\n",
    "    ax.set_title('EmoBase rel Häufigkeit - \"' +emo+ '\"', size = 20)\n",
    "    ylab = ax.set_ylabel(emo +' / alle ', size = 20)\n",
    "    \n",
    "    if n <= 5:\n",
    "        plt.setp(ax.get_xticklabels(), visible=False)\n",
    "    else:\n",
    "        x_tags = plt.xticks(partei_piv_emo_rel.index, fontsize = 14, rotation = 45, ha = \"right\")\n",
    "    if n == 5:\n",
    "        plt.legend(loc = 1, ncol = 3, fontsize = 13)\n",
    "\n",
    "\n",
    "\n"
   ]
  },
  {
   "cell_type": "code",
   "execution_count": null,
   "metadata": {
    "scrolled": false
   },
   "outputs": [],
   "source": [
    "#mdp_partei_emo = df_kom[df_kom['Monat'] == '18-05']\n",
    "#mdp_partei_emo = df_kom[df_kom['Monat'] == '19-12']\n",
    "mdp_partei_emo = df_kom[df_kom['Monat'] == '20-01']\n",
    "pd.pivot_table(mdp_partei_emo, columns = ['Partei'], index = ['Rede_ID'], aggfunc = np.count_nonzero)['Akteur']\n",
    "#pd.pivot_table(mdp_partei_emo, columns = ['Partei'], index = ['Beschreibung1'], aggfunc = np.count_nonzero)['Akteur']"
   ]
  },
  {
   "cell_type": "code",
   "execution_count": null,
   "metadata": {},
   "outputs": [],
   "source": [
    "# Erste Beratung des von den Abgeordneten Stephan Brandner, Jens Maier, Roman Johannes Reusch, weiteren Abgeordneten und der Fraktion der AfD eingebrachten Entwurfs eines Gesetzes zur Sicherstellung publizistischer Vielfalt und zur Herstellung von Transparenz bei Beteiligungen politischer Parteien an Medienunternehmen \t119.0\n",
    "# a) Beratung des Antrags der Abgeordneten Marc Bernhard, Udo Theodor Hemmelgarn, Frank Magnitz, weiterer Abgeordneter und der Fraktion der AfD b) Beratung der Beschlussempfehlung und des Berichts des Ausschusses für Bau, Wohnen, Stadtentwicklung und Kommunen (24. Ausschuss) zu dem Antrag der Abgeordneten Udo Theodor Hemmelgarn, Marc Bernhard, Frank Magnitz, weiterer Abgeordneter und der Fraktion der AfD \t87.0 \t"
   ]
  }
 ],
 "metadata": {
  "kernelspec": {
   "display_name": "Python 3",
   "language": "python",
   "name": "python3"
  },
  "language_info": {
   "codemirror_mode": {
    "name": "ipython",
    "version": 3
   },
   "file_extension": ".py",
   "mimetype": "text/x-python",
   "name": "python",
   "nbconvert_exporter": "python",
   "pygments_lexer": "ipython3",
   "version": "3.6.9"
  }
 },
 "nbformat": 4,
 "nbformat_minor": 2
}
