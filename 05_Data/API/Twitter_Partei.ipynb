{
 "cells": [
  {
   "cell_type": "markdown",
   "metadata": {},
   "source": [
    "# Lade Daten per Twitter API\n",
    "*Es werden Timeline Daten für jeden aktuellen Bundestags Politiker geladen, der auf Twitter aktiv ist. \n",
    "Die Daten werden anschließend in MongoDB abgelegt, wobei jeder Tweet einem Dokument entspricht. Die Namen der User wurden von den Fraktionsseiten gecrawled.*"
   ]
  },
  {
   "cell_type": "markdown",
   "metadata": {},
   "source": [
    "### API Verbindung aufsetzen"
   ]
  },
  {
   "cell_type": "code",
   "execution_count": 1,
   "metadata": {},
   "outputs": [],
   "source": [
    "# Tweepy statt twitter Paket\n",
    "# https://www.earthdatascience.org/courses/earth-analytics-python/using-apis-natural-language-processing-twitter/get-and-use-twitter-data-in-python/\n",
    "\n",
    "import os\n",
    "import tweepy as tw\n",
    "import pandas as pd\n",
    "\n",
    "# Die folgenden Zugangsaten können bei Twitter Developer abgerufen werden, sobald ein Account erstellt wurde\n",
    "consumer_key = os.getenv('consumer_key')\n",
    "consumer_secret = os.getenv('consumer_secret')\n",
    "access_token_key = os.getenv('access_token_key')\n",
    "access_token_secret = os.getenv('access_token_secret')\n",
    "\n",
    "auth = tw.OAuthHandler(consumer_key, consumer_secret)\n",
    "auth.set_access_token(access_token_key, access_token_secret)\n",
    "api = tw.API(auth, wait_on_rate_limit=True)"
   ]
  },
  {
   "cell_type": "markdown",
   "metadata": {},
   "source": [
    "### API Verbindung und speichern in Mongo DB\n",
    "Marco Bülow ist im November 2020 von der SPD zu Die Partei gewechselt womit diese ihr erstes Bundestagsmandat erhält.\n"
   ]
  },
  {
   "cell_type": "code",
   "execution_count": 2,
   "metadata": {},
   "outputs": [],
   "source": [
    "import pymongo\n",
    "\n",
    "client = pymongo.MongoClient(\"mongodb://127.0.0.1:27017/\")\n",
    "\n",
    "db = client['Twitter']\n",
    "# All_Tweets_collection = db['twitter_mdp_ex_date_proj'] # Flache Collection mit weniger Feldern\n",
    "All_Tweets_collection = db['Twitter_mdp_extend']         # Basis in der zunächst alle Tweets gesammelt werden"
   ]
  },
  {
   "cell_type": "markdown",
   "metadata": {},
   "source": [
    "Über den Zeitraum Feb-Aug 2020 wurde der Datensatz zu verschiedenen Zeitpunkten aktualisiert. Dabei ergaben sich folgende Probleme:\n",
    "* die Option \"since\" in $\\texttt{.user_timeline}$ wird ignoriert wenn man gleichtzeitig \"count\" oder \"page\" verwendet\n",
    "* beim laden in die modifizierte Collection Twitter_mp_datetime wurde ein duplicate error geworfen\n",
    "* durch die Arbeit auf zwei Computern muss die Datenbank bei Aktualisierung synchronisiert werden"
   ]
  },
  {
   "cell_type": "code",
   "execution_count": 4,
   "metadata": {},
   "outputs": [
    {
     "name": "stdout",
     "output_type": "stream",
     "text": [
      "marcobuelow\n",
      "3212\n"
     ]
    }
   ],
   "source": [
    "import json\n",
    "\n",
    "with open('Namen_Partei.json') as json_file:\n",
    "    Partei = json.load(json_file)\n",
    "    \n",
    "for Abgeordneter in Partei:\n",
    "    i = 1\n",
    "    user = Abgeordneter\n",
    "    print(user)\n",
    "    all_tweets = []\n",
    "    while i <= 100 :\n",
    "        tweets_of_page = api.user_timeline(screen_name = user, tweet_mode = \"extended\", count = 200, page = i, include_rts = True)\n",
    "        #print(len(tweets_of_page))\n",
    "        all_tweets = all_tweets + tweets_of_page\n",
    "        i=i+1\n",
    "        if len(tweets_of_page) == 0:\n",
    "            break    # no more tweets from this user\n",
    "            \n",
    "    for tweet in all_tweets:\n",
    "        All_Tweets_collection.insert_one(tweet._json)\n",
    "    print(len(all_tweets))"
   ]
  }
 ],
 "metadata": {
  "kernelspec": {
   "display_name": "Python 3",
   "language": "python",
   "name": "python3"
  },
  "language_info": {
   "codemirror_mode": {
    "name": "ipython",
    "version": 3
   },
   "file_extension": ".py",
   "mimetype": "text/x-python",
   "name": "python",
   "nbconvert_exporter": "python",
   "pygments_lexer": "ipython3",
   "version": "3.6.9"
  }
 },
 "nbformat": 4,
 "nbformat_minor": 2
}
