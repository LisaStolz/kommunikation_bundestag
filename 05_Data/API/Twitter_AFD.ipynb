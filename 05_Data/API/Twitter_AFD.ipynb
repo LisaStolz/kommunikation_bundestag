{
 "cells": [
  {
   "cell_type": "markdown",
   "metadata": {},
   "source": [
    "# Lade Daten per Twitter API\n",
    "*Es werden Timeline Daten für jeden aktuellen Bundestags Politiker geladen, der auf Twitter aktiv ist. \n",
    "Die Daten werden anschließend in MongoDB abgelegt, wobei jeder Tweet einem Dokument entspricht. Die Namen der User wurden von den Fraktionsseiten gecrawled.*"
   ]
  },
  {
   "cell_type": "markdown",
   "metadata": {},
   "source": [
    "### API Verbindung aufsetzen"
   ]
  },
  {
   "cell_type": "code",
   "execution_count": 2,
   "metadata": {},
   "outputs": [],
   "source": [
    "# Tweepy statt twitter Paket\n",
    "# https://www.earthdatascience.org/courses/earth-analytics-python/using-apis-natural-language-processing-twitter/get-and-use-twitter-data-in-python/\n",
    "\n",
    "import os\n",
    "import tweepy as tw\n",
    "import pandas as pd\n",
    "\n",
    "# Die folgenden Zugangsaten können bei Twitter Developer abgerufen werden, sobald ein Account erstellt wurde\n",
    "consumer_key = os.getenv('consumer_key')\n",
    "consumer_secret = os.getenv('consumer_secret')\n",
    "access_token_key = os.getenv('access_token_key')\n",
    "access_token_secret = os.getenv('access_token_secret')\n",
    "\n",
    "auth = tw.OAuthHandler(consumer_key, consumer_secret)\n",
    "auth.set_access_token(access_token_key, access_token_secret)\n",
    "api = tw.API(auth, wait_on_rate_limit=True)"
   ]
  },
  {
   "cell_type": "code",
   "execution_count": 4,
   "metadata": {},
   "outputs": [
    {
     "name": "stdout",
     "output_type": "stream",
     "text": [
      "consumer_key =\n",
      "consumer_secret =O6TB4nfapbkriYFFNjKwbZS2W6N8jfcAnxOgZxMALVH3EquFS8\n",
      "access_token_key =2357227475-oza7eWuMjiHjpXAJIcc7iimWMqUbiTePs9d986G\n",
      "access_token_secret =Fu6pH66pQCm4zcH2DKoe9RVcHM2yS6sGAT1VRKNn7jV3b\n"
     ]
    }
   ],
   "source": [
    "print('consumer_key ='+os.getenv('consumer_key'))\n",
    "print('consumer_secret ='+os.getenv('consumer_secret'))\n",
    "print('access_token_key ='+os.getenv('access_token_key'))\n",
    "print('access_token_secret ='+os.getenv('access_token_secret'))"
   ]
  },
  {
   "cell_type": "markdown",
   "metadata": {},
   "source": [
    "### API Verbindung und speichern in Mongo DB\n",
    "In der Collection Twitter_mdp wird jeder Tweet mit allen Metainformationen als ein Dokument gespeichert. Es werden Tweets zu allen auf Twitter aktiven Politikern einer Fraktion gesammelt. Die entsprechenden Namen wurden von den Bundestagsfraktionsseiten gecrawled.\n",
    "\n",
    "Anfang Juni 2020 wurde zur Qualitätsicherung des Datensatzes außerdem eine manuelle Kontrolle durchgeführt. Dabei fiel auf, dass der Großteil von Abgeordneten einen Twitter Account besitzen, dieser aber nicht auf der Fraktionsseite verlinkt wurde. Dies ist der Fall bei den folgenden Politikern:\n",
    "\n",
    "\"BerndBaumannAfD\", \"AndreasBleckMdB\", \"PeterBoehringer\", \"JuergenBraunAfD\", \"Marcus_Buehl\", \"Buettner_MdB\", \"Tino_Chrupalla\", \"DroeseSiegbert\", \"Thomas_Ehrhorn\", \"PeterFelser\", \"DrFriesenMdB\", \"GtzFrmming\", \"AlexGauland\", \"Paul_Hampel_BT\", \"M_HarderKuehnel\", \"R_Hartwig_AfD\", \"WaldemarHerdt\", \"Martin_Hess_AfD\", \"HilseMdb\", \"Nicole_Hoechst\", \"HohmannMdb\", \"DrHollnagel\", \"Huber_AfD\", \"Marc_Jongen\", \"KestnerJens\", \"StefanKeuterAfD\", \"NKleinwaechter\", \"JoernKoenigAfD\", \"Dr_Rainer_Kraft\", \"Frank_Magnitz\", \"LotharMaier1\", \"JensMaierAfD\", \"MalsackWinkeman\", \"mrosek1958\", \"MdB_Mueller_AfD\", \"Jan_Nolte_AfD\", \"Ulrich_Oehme\", \"Gerold_Otten\", \"Frank_Pasemann\", \"Pohl_MdB\", \"M_Reichardt_AfD\", \"Renner_AfD\", \"ulschzi\", \"Schneider_AfD\",\n",
    "\"Uwe_Schulz_AfD\", \"Th_Seitz_AfD\", \"Martin_Sichert\", \"DirkSpaniel\", \"h_weyel\", \"WolfgangWiehle\", \"Heiko_Wildberg\", \"ChrWirthMdB\", TobiasMPeterka\n",
    "\n",
    "Die Tweets aus den Timelines dieser Politiker wurden entsprechend im Juni in den Datensatz aufgenommen.\n",
    "\n",
    "Für die folgenden Namen gab es Auffälligkeiten, weshalb sie nicht enthalten sind (Grund angegeben):\n",
    "* afdBystron ist ein Sartire Account und wurde vmlt. fälschlicherweise auf der AFD Homepage verlinkt\n",
    "-> Am 10.05. wurde er durch den echten Account ersetzt: PetrBystronAfD \n",
    "* EspendillerM hat Stand 10.05. seinen Screen_name zu DrMEspendiller geändert (hat wohl Promoviert)\n",
    "-> Die beiden Accounts scheinen verknüpft zu sein, Duplikate werden erkannt (auch wenn der screen_name ein neuer ist)\n",
    "* Albrecht (protected)"
   ]
  },
  {
   "cell_type": "code",
   "execution_count": 3,
   "metadata": {},
   "outputs": [],
   "source": [
    "import pymongo\n",
    "\n",
    "client = pymongo.MongoClient(\"mongodb://127.0.0.1:27017/\")\n",
    "\n",
    "db = client['Twitter']\n",
    "# All_Tweets_collection = db['twitter_mdp_ex_date_proj'] # Flache Collection mit weniger Feldern\n",
    "All_Tweets_collection = db['Twitter_mdp_extend']         # Basis in der zunächst alle Tweets gesammelt werden"
   ]
  },
  {
   "cell_type": "markdown",
   "metadata": {},
   "source": [
    "Über den Zeitraum Feb-Aug 2020 wurde der Datensatz zu verschiedenen Zeitpunkten aktualisiert. Dabei ergaben sich folgende Probleme:\n",
    "* die Option \"since\" in $\\texttt{.user_timeline}$ wird ignoriert wenn man gleichtzeitig \"count\" oder \"page\" verwendet\n",
    "* beim laden in die modifizierte Collection Twitter_mp_datetime wurde ein duplicate error geworfen\n",
    "* durch die Arbeit auf zwei Computern muss die Datenbank bei Aktualisierung synchronisiert werden"
   ]
  },
  {
   "cell_type": "code",
   "execution_count": null,
   "metadata": {},
   "outputs": [
    {
     "name": "stdout",
     "output_type": "stream",
     "text": [
      "StBrandner\n",
      "3207\n",
      "SteffenKotre\n",
      "696\n",
      "Witt_Uwe\n",
      "1116\n",
      "EnricoKomning\n",
      "416\n",
      "MdB_Lucassen\n",
      "263\n",
      "Beatrix_vStorch\n",
      "3199\n",
      "Rene_Springer\n",
      "2861\n",
      "Alice_Weidel\n",
      "2772\n",
      "DrRobbySchlund\n",
      "29\n",
      "Paul_Podolay\n",
      "54\n",
      "AfDProtschka\n",
      "3178\n",
      "ttte94\n",
      "61\n",
      "S_Muenzenmaier\n",
      "1663\n",
      "CorinnaMiazga\n",
      "300\n",
      "Jacobi_AfD\n",
      "709\n",
      "Leif_Erik_Holm\n",
      "1524\n",
      "UdoHemmelgarn\n",
      "3109\n",
      "Jochen_Haug\n",
      "739\n",
      "KayGottschalk1\n",
      "1461\n",
      "axelgehrke\n",
      "138\n",
      "GtzFrmming\n",
      "3189\n",
      "Frohnmaier_AfD\n",
      "1185\n",
      "DrMEspendiller\n",
      "1660\n",
      "ElsnervonGronow\n",
      "3086\n",
      "GottfriedCurio\n",
      "581\n",
      "JoanaCotar\n",
      "3210\n",
      "BerndBaumannAfD\n",
      "99\n",
      "AndreasBleckMdB\n",
      "906\n",
      "PeterBoehringer\n",
      "567\n",
      "JuergenBraunAfD\n",
      "3207\n",
      "Marcus_Buehl\n",
      "611\n",
      "Buettner_MdB\n",
      "561\n",
      "Tino_Chrupalla\n",
      "827\n",
      "Siegbert_Droese\n",
      "18\n",
      "Thomas_Ehrhorn\n",
      "804\n",
      "PeterFelser\n",
      "387\n",
      "DrFriesenMdB\n",
      "1291\n",
      "GtzFrmming\n",
      "3189\n",
      "AlexGauland\n",
      "6\n",
      "Paul_Hampel_BT\n",
      "4\n",
      "M_HarderKuehnel\n",
      "417\n",
      "R_Hartwig_AfD\n",
      "1076\n",
      "WaldemarHerdt\n",
      "263\n",
      "Martin_Hess_AfD\n",
      "1833\n",
      "HilseMdb\n",
      "17\n",
      "Nicole_Hoechst\n",
      "2648\n",
      "HohmannMdb\n",
      "168\n",
      "DrHollnagel\n",
      "196\n",
      "Huber_AfD\n",
      "25\n",
      "Marc_Jongen\n",
      "353\n",
      "KestnerJens\n",
      "801\n",
      "StefanKeuterAfD\n",
      "2155\n",
      "NKleinwaechter\n",
      "663\n",
      "JoernKoenigAfD\n",
      "446\n",
      "Dr_Rainer_Kraft\n",
      "865\n",
      "Frank_Magnitz\n",
      "810\n",
      "LotharMaier1\n",
      "6\n",
      "JensMaierAfD\n"
     ]
    }
   ],
   "source": [
    "import json\n",
    "\n",
    "with open('Namen_AFD.json') as json_file:\n",
    "    AFD = json.load(json_file)\n",
    "    \n",
    "# AFD = AFD[33:35]\n",
    "#print(AFD)\n",
    "\n",
    "for Abgeordneter in AFD:\n",
    "    i = 1\n",
    "    user = Abgeordneter\n",
    "    print(user)\n",
    "    all_tweets = []\n",
    "    while i <= 100 :\n",
    "        tweets_of_page = api.user_timeline(screen_name = user, tweet_mode = \"extended\", count = 200, page = i, include_rts = True)\n",
    "        #print(len(tweets_of_page))\n",
    "        all_tweets = all_tweets + tweets_of_page\n",
    "        i=i+1\n",
    "        if len(tweets_of_page) == 0:\n",
    "            break    # no more tweets from this user\n",
    "            \n",
    "    for tweet in all_tweets:\n",
    "        All_Tweets_collection.insert_one(tweet._json)\n",
    "    print(len(all_tweets))\n",
    "# DroeseSiegbert -> Name geändert (alter Account gesperrt)"
   ]
  },
  {
   "cell_type": "code",
   "execution_count": 9,
   "metadata": {},
   "outputs": [
    {
     "name": "stdout",
     "output_type": "stream",
     "text": [
      "Siegbert_Droese\n"
     ]
    }
   ],
   "source": [
    "# with open('/home/lisa/Darmstadt/Master Arbeit/05_Data/Scrapy/Twitter_user/Twitter_user/spiders/AFD_twitter_clean.json') as json_file:\n",
    "with open('Namen_AFD.json') as json_file:\n",
    "    AFD = json.load(json_file)\n",
    "    \n",
    "AFD = AFD[33]\n",
    "print(AFD)"
   ]
  },
  {
   "cell_type": "markdown",
   "metadata": {},
   "source": [
    "#### Liste aller AFD Politiker ohne Daten in der Datenbank\n",
    "\n",
    "Für manche Politiker findet man keine Daten in Twitter_mdp, wenn man mit dem Screen_name aus der Liste AFD_twitter_clean sucht.\n",
    "\n",
    "Grund: Die Usernamen in der Liste von der Fraktionsseite (_twitter_clean) weichen ab vom tatsächlichen Screen_name\n",
    "\n",
    "-> Twitter API ist NICHT case sensitiv, MongoDB und Python aber schon!\n",
    "\n",
    "=> Option mit RegEx zu suchen (_twitter_Namen) ODER einen Tweet laden und exakten user_screen_name speichern (siehe unten - _twitter_realNames)"
   ]
  },
  {
   "cell_type": "code",
   "execution_count": 2,
   "metadata": {},
   "outputs": [],
   "source": [
    "# import json\n",
    "# with open('/home/lisa/Darmstadt/Master Arbeit/05_Data/Scrapy/Twitter_user/Twitter_user/spiders/AFD_twitter_clean.json') as json_file:\n",
    "#     AFD = json.load(json_file)\n",
    "\n",
    "# AFD_Name = AFD\n",
    "# mdp_not_mongodb = []\n",
    "\n",
    "# for name, n in zip(AFD, range(0,len(AFD))):\n",
    "#     count = 0\n",
    "#     #cursor = All_Tweets_collection.find({\"user.screen_name\": {'$regex':name,'$options':'i'}})\n",
    "#     cursor = All_Tweets_collection.find({\"user_screen_name\": name})\n",
    "#     for doc in cursor:\n",
    "#         count=count+1\n",
    "        \n",
    "#     if count == 0:\n",
    "#         #print(count)\n",
    "#         print(name)\n",
    "#         #mdp_not_mongodb.append(name)\n",
    "#         AFD_Name[n] = All_Tweets_collection.find_one({\"user_screen_name\": {'$regex':name,'$options':'i'}})['user_screen_name']\n",
    "   \n",
    "        \n",
    "# print(mdp_not_mongodb)\n",
    "# with open(\"/home/lisa/Darmstadt/Master Arbeit/05_Data/Scrapy/Twitter_user/Twitter_user/spiders/AFD_twitter_Names.json\", \"a\") as write_file:\n",
    "# #with open(\"mdp_not_mongodb_AFD.json\", \"w\") as write_file:\n",
    "#      json.dump(AFD_Name, write_file)\n"
   ]
  },
  {
   "cell_type": "markdown",
   "metadata": {},
   "source": [
    "#### Erstellen der Liste mit den tatsächlichen screen_names "
   ]
  },
  {
   "cell_type": "code",
   "execution_count": 1,
   "metadata": {},
   "outputs": [],
   "source": [
    "# import json\n",
    "\n",
    "# with open('/home/lisa/Darmstadt/Master Arbeit/05_Data/Scrapy/Twitter_user/Twitter_user/spiders/AFD_twitter_clean.json') as json_file:\n",
    "#     AFD= json.load(json_file)\n",
    "    \n",
    "# #AFD = AFD[]\n",
    "# names = []\n",
    "\n",
    "# for Abgeordneter in AFD:\n",
    "#     user = Abgeordneter\n",
    "#     print(user)\n",
    "#     all_tweets = api.user_timeline(screen_name = user, count = 1, include_rts = True)\n",
    "#     for tweet in all_tweets:\n",
    "#         name = tweet.user.screen_name\n",
    "#         names.append(name)\n",
    "        \n",
    "# print(names)\n",
    "\n",
    "# with open (\"AFD_twitter_realNames\", \"w\") as write_file:\n",
    "#     json.dump(names, write_file)\n",
    "    "
   ]
  }
 ],
 "metadata": {
  "kernelspec": {
   "display_name": "Python 3",
   "language": "python",
   "name": "python3"
  },
  "language_info": {
   "codemirror_mode": {
    "name": "ipython",
    "version": 3
   },
   "file_extension": ".py",
   "mimetype": "text/x-python",
   "name": "python",
   "nbconvert_exporter": "python",
   "pygments_lexer": "ipython3",
   "version": "3.6.9"
  }
 },
 "nbformat": 4,
 "nbformat_minor": 2
}
