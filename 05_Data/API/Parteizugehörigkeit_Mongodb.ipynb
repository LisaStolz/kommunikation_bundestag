{
 "cells": [
  {
   "cell_type": "code",
   "execution_count": 2,
   "metadata": {},
   "outputs": [],
   "source": [
    "import pymongo\n",
    "\n",
    "client = pymongo.MongoClient(\"mongodb://127.0.0.1:27017/\")\n",
    "\n",
    "db = client['Twitter']\n",
    "#All_Tweets_collection = db['Twitter_mdp_extend'] \n",
    "#All_Tweets_collection = db['parteizuordnung'] "
   ]
  },
  {
   "cell_type": "markdown",
   "metadata": {},
   "source": [
    "Ziel:\n",
    "    1.) Erstelle Dictionary mit {(name, partei)} für alle Abgeordneten\n",
    "    2.) Öffne Mongodb und für jeden Eintrag in Dict der mit screen_name in Mongo matcht \n",
    "    -> füge Partei in Dokument des Tweets hinzu"
   ]
  },
  {
   "cell_type": "code",
   "execution_count": 23,
   "metadata": {},
   "outputs": [
    {
     "data": {
      "text/plain": [
       "<pymongo.results.InsertManyResult at 0x7f549006afc8>"
      ]
     },
     "execution_count": 23,
     "metadata": {},
     "output_type": "execute_result"
    }
   ],
   "source": [
    "import json\n",
    "Partei = ['Union', 'SPD', 'AFD', 'Gruene', 'Linke', 'FDP']\n",
    "\n",
    "mdb_party_list = []\n",
    "\n",
    "for partei in Partei:\n",
    "    with open('Namen_'+str(partei)+'.json') as json_file:\n",
    "        names = json.load(json_file)\n",
    "    for name in names:\n",
    "        mdb_party_list.append({'Name': name, 'Partei': partei})\n",
    "        \n",
    "#mdb_party_list\n",
    "db.parteizuordnung.insert_many(mdb_party_list)"
   ]
  },
  {
   "cell_type": "markdown",
   "metadata": {},
   "source": [
    "Folgende Ergänzungen wurden in db parteizuordnung vorgenommen (04.06.) und werden beim nächsten Update der Datenbank mit aufgenommen\n",
    "\n",
    "* kahrs           SPD -- Collection \"parteizuordnung\" um diesen Politiker + Partei ergänzen\n",
    "* ruppert_stefan  FDP -- Collection \"parteizuordnung\" um diesen Politiker + Partei ergänzen\n",
    "* PetrBystronAfD  AFD -- Muss in normale Liste mit aufgenommen werden! (== aktueller Account)\n",
    "* EspendillerM    AFD -- Collection \"parteizuordnung\" um diesen Politiker + Partei ergänzen"
   ]
  },
  {
   "cell_type": "code",
   "execution_count": 3,
   "metadata": {},
   "outputs": [
    {
     "data": {
      "text/plain": [
       "<pymongo.results.InsertManyResult at 0x7fe2018727c8>"
      ]
     },
     "execution_count": 3,
     "metadata": {},
     "output_type": "execute_result"
    }
   ],
   "source": [
    "mdb_party_list_add = ({'Name': 'kahrs', 'Partei': 'SPD'}, {'Name': 'ruppert_stefan', 'Partei': 'FDP'}, {'Name': 'PetrBystronAfD', 'Partei': 'AFD'}, {'Name': 'EspendillerM', 'Partei': 'AFD'})\n",
    "db.parteizuordnung.insert_many(mdb_party_list_add)"
   ]
  }
 ],
 "metadata": {
  "kernelspec": {
   "display_name": "Python 3",
   "language": "python",
   "name": "python3"
  },
  "language_info": {
   "codemirror_mode": {
    "name": "ipython",
    "version": 3
   },
   "file_extension": ".py",
   "mimetype": "text/x-python",
   "name": "python",
   "nbconvert_exporter": "python",
   "pygments_lexer": "ipython3",
   "version": "3.6.9"
  }
 },
 "nbformat": 4,
 "nbformat_minor": 2
}
