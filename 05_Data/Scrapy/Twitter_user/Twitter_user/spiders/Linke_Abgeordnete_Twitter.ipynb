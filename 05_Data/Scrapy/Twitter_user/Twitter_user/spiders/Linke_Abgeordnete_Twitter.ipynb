{
 "cells": [
  {
   "cell_type": "markdown",
   "metadata": {},
   "source": [
    "# Downloade Twitter-usernamen aller Die Linke Abgeordneten\n",
    "\n",
    "__Nach Anleitung (https://www.jitsejan.com/using-scrapy-in-jupyter-notebook.html)__\n",
    "\n",
    "__Fraktionsseite: https://www.linksfraktion.de/fraktion/abgeordnete/a-bis-e/__"
   ]
  },
  {
   "cell_type": "code",
   "execution_count": 1,
   "metadata": {},
   "outputs": [
    {
     "data": {
      "text/plain": [
       "'3.6.9'"
      ]
     },
     "execution_count": 1,
     "metadata": {},
     "output_type": "execute_result"
    }
   ],
   "source": [
    "# Settings for notebook\n",
    "from IPython.core.interactiveshell import InteractiveShell\n",
    "InteractiveShell.ast_node_interactivity = \"all\"\n",
    "# Show Python version\n",
    "import platform\n",
    "platform.python_version()"
   ]
  },
  {
   "cell_type": "code",
   "execution_count": 2,
   "metadata": {},
   "outputs": [],
   "source": [
    "import json\n",
    "\n",
    "class JsonWriterPipeline(object):\n",
    "\n",
    "    def open_spider(self, spider):\n",
    "        self.file = open('Linke_twitter.json', 'w')\n",
    "\n",
    "    def close_spider(self, spider):\n",
    "        self.file.close()\n",
    "\n",
    "    def process_item(self, item, spider):\n",
    "        line = json.dumps(dict(item)) + \"\\n\"\n",
    "        self.file.write(line)\n",
    "        return item"
   ]
  },
  {
   "cell_type": "code",
   "execution_count": 3,
   "metadata": {},
   "outputs": [],
   "source": [
    "import scrapy\n",
    "from scrapy.crawler import CrawlerProcess\n",
    "import logging\n",
    "from scrapy.utils.log import configure_logging\n",
    "from urllib.parse import urlparse\n",
    "\n",
    "\n",
    "\n",
    "configure_logging(install_root_handler=False)\n",
    "logging.basicConfig(\n",
    "    filename='Linke_log.txt',\n",
    "    filemode = 'w',\n",
    "    format='%(levelname)s: %(message)s',\n",
    "    level=logging.DEBUG\n",
    ")\n",
    "\n",
    "\n",
    "\n",
    "class LinkeSpider(scrapy.Spider):\n",
    "    name = \"Linke_Abgeordnete_Twitter\"\n",
    "    custom_settings = {\n",
    "        'LOG_LEVEL': logging.INFO,\n",
    "        'ITEM_PIPELINES': {'__main__.JsonWriterPipeline': 1}, # Used for pipeline 1\n",
    "        'FEED_FORMAT':'json',                                 # Used for pipeline 2\n",
    "        'FEED_URI': 'Linke_twitter.json'                     # Used for pipeline 2\n",
    "    }\n",
    "\n",
    "    def start_requests(self):\n",
    "        urls = [\n",
    "             'https://www.linksfraktion.de/fraktion/abgeordnete/a-bis-e/',\n",
    "             'https://www.linksfraktion.de/fraktion/abgeordnete/f-bis-j/',\n",
    "             'https://www.linksfraktion.de/fraktion/abgeordnete/k-bis-o/',\n",
    "             'https://www.linksfraktion.de/fraktion/abgeordnete/p-bis-t/',\n",
    "             'https://www.linksfraktion.de/fraktion/abgeordnete/u-bis-z/'\n",
    "        ]\n",
    "        for url in urls:\n",
    "            yield scrapy.Request(url=url, callback=self.parse)\n",
    "\n",
    "    def parse(self, response):\n",
    "        #for href in response.css(\"div.teaserList.teaserType-weitereInfoTeaser.teaserList--tiny a::attr('href')\"):\n",
    "        for link in response.css(\"div. article h2 a::attr(href)\").extract():\n",
    "            #print(link)\n",
    "            #url = response.urljoin(link)\n",
    "            #url = urlparse.urljoin(response.url, link)\n",
    "            yield response.follow(link, callback=self.parse_dir_contents)\n",
    "\n",
    "#            print(url)\n",
    "#            yield scrapy.Request(link, callback = self.parse_dir_contents)\n",
    "\n",
    "    def parse_dir_contents(self, response):\n",
    "        for delegate in response.css('body'):\n",
    "            print(delegate)\n",
    "            yield {\n",
    "                #'text': delegate.css('li.twitter::text').getall(),\n",
    "                'name': delegate.xpath('//a[contains(text(), \"Twitter\")]/@href').getall(),\n",
    "            }\n"
   ]
  },
  {
   "cell_type": "code",
   "execution_count": 4,
   "metadata": {},
   "outputs": [
    {
     "name": "stderr",
     "output_type": "stream",
     "text": [
      "2020-04-04 15:30:20 [scrapy.utils.log] INFO: Scrapy 1.7.3 started (bot: scrapybot)\n",
      "2020-04-04 15:30:20 [scrapy.utils.log] INFO: Versions: lxml 4.2.1.0, libxml2 2.9.4, cssselect 1.1.0, parsel 1.5.2, w3lib 1.21.0, Twisted 19.7.0, Python 3.6.9 (default, Nov  7 2019, 10:44:02) - [GCC 8.3.0], pyOpenSSL 19.0.0 (OpenSSL 1.1.1  11 Sep 2018), cryptography 2.1.4, Platform Linux-4.15.0-91-generic-x86_64-with-Ubuntu-18.04-bionic\n",
      "2020-04-04 15:30:20 [scrapy.crawler] INFO: Overridden settings: {'FEED_FORMAT': 'json', 'FEED_URI': 'Linke_twitter.json', 'LOG_LEVEL': 20, 'USER_AGENT': 'Mozilla/4.0 (compatible; MSIE 7.0; Windows NT 5.1)'}\n",
      "2020-04-04 15:30:20 [scrapy.extensions.telnet] INFO: Telnet Password: 07d83cb3cdcc1fe3\n",
      "2020-04-04 15:30:21 [scrapy.middleware] INFO: Enabled extensions:\n",
      "['scrapy.extensions.corestats.CoreStats',\n",
      " 'scrapy.extensions.telnet.TelnetConsole',\n",
      " 'scrapy.extensions.memusage.MemoryUsage',\n",
      " 'scrapy.extensions.feedexport.FeedExporter',\n",
      " 'scrapy.extensions.logstats.LogStats']\n",
      "2020-04-04 15:30:21 [scrapy.middleware] INFO: Enabled downloader middlewares:\n",
      "['scrapy.downloadermiddlewares.httpauth.HttpAuthMiddleware',\n",
      " 'scrapy.downloadermiddlewares.downloadtimeout.DownloadTimeoutMiddleware',\n",
      " 'scrapy.downloadermiddlewares.defaultheaders.DefaultHeadersMiddleware',\n",
      " 'scrapy.downloadermiddlewares.useragent.UserAgentMiddleware',\n",
      " 'scrapy.downloadermiddlewares.retry.RetryMiddleware',\n",
      " 'scrapy.downloadermiddlewares.redirect.MetaRefreshMiddleware',\n",
      " 'scrapy.downloadermiddlewares.httpcompression.HttpCompressionMiddleware',\n",
      " 'scrapy.downloadermiddlewares.redirect.RedirectMiddleware',\n",
      " 'scrapy.downloadermiddlewares.cookies.CookiesMiddleware',\n",
      " 'scrapy.downloadermiddlewares.httpproxy.HttpProxyMiddleware',\n",
      " 'scrapy.downloadermiddlewares.stats.DownloaderStats']\n",
      "2020-04-04 15:30:21 [scrapy.middleware] INFO: Enabled spider middlewares:\n",
      "['scrapy.spidermiddlewares.httperror.HttpErrorMiddleware',\n",
      " 'scrapy.spidermiddlewares.offsite.OffsiteMiddleware',\n",
      " 'scrapy.spidermiddlewares.referer.RefererMiddleware',\n",
      " 'scrapy.spidermiddlewares.urllength.UrlLengthMiddleware',\n",
      " 'scrapy.spidermiddlewares.depth.DepthMiddleware']\n",
      "2020-04-04 15:30:21 [scrapy.middleware] INFO: Enabled item pipelines:\n",
      "['__main__.JsonWriterPipeline']\n",
      "2020-04-04 15:30:21 [scrapy.core.engine] INFO: Spider opened\n",
      "2020-04-04 15:30:21 [scrapy.extensions.logstats] INFO: Crawled 0 pages (at 0 pages/min), scraped 0 items (at 0 items/min)\n",
      "2020-04-04 15:30:21 [scrapy.extensions.telnet] INFO: Telnet console listening on 127.0.0.1:6023\n"
     ]
    },
    {
     "data": {
      "text/plain": [
       "<Deferred at 0x7fb4b1db4f98>"
      ]
     },
     "execution_count": 4,
     "metadata": {},
     "output_type": "execute_result"
    },
    {
     "name": "stdout",
     "output_type": "stream",
     "text": [
      "<Selector xpath='descendant-or-self::body' data='<body id=\"p317\" class=\"page-317 pagel...'>\n",
      "<Selector xpath='descendant-or-self::body' data='<body id=\"p317\" class=\"page-317 pagel...'>\n",
      "<Selector xpath='descendant-or-self::body' data='<body id=\"p317\" class=\"page-317 pagel...'>\n",
      "<Selector xpath='descendant-or-self::body' data='<body id=\"p317\" class=\"page-317 pagel...'>\n",
      "<Selector xpath='descendant-or-self::body' data='<body id=\"p317\" class=\"page-317 pagel...'>\n",
      "<Selector xpath='descendant-or-self::body' data='<body id=\"p317\" class=\"page-317 pagel...'>\n",
      "<Selector xpath='descendant-or-self::body' data='<body id=\"p317\" class=\"page-317 pagel...'>\n",
      "<Selector xpath='descendant-or-self::body' data='<body id=\"p317\" class=\"page-317 pagel...'>\n",
      "<Selector xpath='descendant-or-self::body' data='<body id=\"p317\" class=\"page-317 pagel...'>\n",
      "<Selector xpath='descendant-or-self::body' data='<body id=\"p317\" class=\"page-317 pagel...'>\n",
      "<Selector xpath='descendant-or-self::body' data='<body id=\"p317\" class=\"page-317 pagel...'>\n",
      "<Selector xpath='descendant-or-self::body' data='<body id=\"p317\" class=\"page-317 pagel...'>\n",
      "<Selector xpath='descendant-or-self::body' data='<body id=\"p317\" class=\"page-317 pagel...'>\n",
      "<Selector xpath='descendant-or-self::body' data='<body id=\"p317\" class=\"page-317 pagel...'>\n",
      "<Selector xpath='descendant-or-self::body' data='<body id=\"p317\" class=\"page-317 pagel...'>\n",
      "<Selector xpath='descendant-or-self::body' data='<body id=\"p317\" class=\"page-317 pagel...'>\n",
      "<Selector xpath='descendant-or-self::body' data='<body id=\"p317\" class=\"page-317 pagel...'>\n",
      "<Selector xpath='descendant-or-self::body' data='<body id=\"p317\" class=\"page-317 pagel...'>\n",
      "<Selector xpath='descendant-or-self::body' data='<body id=\"p317\" class=\"page-317 pagel...'>\n",
      "<Selector xpath='descendant-or-self::body' data='<body id=\"p317\" class=\"page-317 pagel...'>\n",
      "<Selector xpath='descendant-or-self::body' data='<body id=\"p317\" class=\"page-317 pagel...'>\n",
      "<Selector xpath='descendant-or-self::body' data='<body id=\"p317\" class=\"page-317 pagel...'>\n",
      "<Selector xpath='descendant-or-self::body' data='<body id=\"p317\" class=\"page-317 pagel...'>\n",
      "<Selector xpath='descendant-or-self::body' data='<body id=\"p317\" class=\"page-317 pagel...'>\n",
      "<Selector xpath='descendant-or-self::body' data='<body id=\"p317\" class=\"page-317 pagel...'>\n",
      "<Selector xpath='descendant-or-self::body' data='<body id=\"p317\" class=\"page-317 pagel...'>\n",
      "<Selector xpath='descendant-or-self::body' data='<body id=\"p317\" class=\"page-317 pagel...'>\n",
      "<Selector xpath='descendant-or-self::body' data='<body id=\"p317\" class=\"page-317 pagel...'>\n",
      "<Selector xpath='descendant-or-self::body' data='<body id=\"p317\" class=\"page-317 pagel...'>\n",
      "<Selector xpath='descendant-or-self::body' data='<body id=\"p317\" class=\"page-317 pagel...'>\n",
      "<Selector xpath='descendant-or-self::body' data='<body id=\"p317\" class=\"page-317 pagel...'>\n",
      "<Selector xpath='descendant-or-self::body' data='<body id=\"p317\" class=\"page-317 pagel...'>\n",
      "<Selector xpath='descendant-or-self::body' data='<body id=\"p317\" class=\"page-317 pagel...'>\n",
      "<Selector xpath='descendant-or-self::body' data='<body id=\"p317\" class=\"page-317 pagel...'>\n",
      "<Selector xpath='descendant-or-self::body' data='<body id=\"p317\" class=\"page-317 pagel...'>\n",
      "<Selector xpath='descendant-or-self::body' data='<body id=\"p317\" class=\"page-317 pagel...'>\n",
      "<Selector xpath='descendant-or-self::body' data='<body id=\"p317\" class=\"page-317 pagel...'>\n",
      "<Selector xpath='descendant-or-self::body' data='<body id=\"p317\" class=\"page-317 pagel...'>\n",
      "<Selector xpath='descendant-or-self::body' data='<body id=\"p317\" class=\"page-317 pagel...'>\n",
      "<Selector xpath='descendant-or-self::body' data='<body id=\"p317\" class=\"page-317 pagel...'>\n",
      "<Selector xpath='descendant-or-self::body' data='<body id=\"p317\" class=\"page-317 pagel...'>\n",
      "<Selector xpath='descendant-or-self::body' data='<body id=\"p317\" class=\"page-317 pagel...'>\n",
      "<Selector xpath='descendant-or-self::body' data='<body id=\"p317\" class=\"page-317 pagel...'>\n",
      "<Selector xpath='descendant-or-self::body' data='<body id=\"p317\" class=\"page-317 pagel...'>\n",
      "<Selector xpath='descendant-or-self::body' data='<body id=\"p317\" class=\"page-317 pagel...'>\n",
      "<Selector xpath='descendant-or-self::body' data='<body id=\"p317\" class=\"page-317 pagel...'>\n",
      "<Selector xpath='descendant-or-self::body' data='<body id=\"p317\" class=\"page-317 pagel...'>\n",
      "<Selector xpath='descendant-or-self::body' data='<body id=\"p317\" class=\"page-317 pagel...'>\n",
      "<Selector xpath='descendant-or-self::body' data='<body id=\"p317\" class=\"page-317 pagel...'>\n",
      "<Selector xpath='descendant-or-self::body' data='<body id=\"p317\" class=\"page-317 pagel...'>\n",
      "<Selector xpath='descendant-or-self::body' data='<body id=\"p317\" class=\"page-317 pagel...'>\n",
      "<Selector xpath='descendant-or-self::body' data='<body id=\"p317\" class=\"page-317 pagel...'>\n",
      "<Selector xpath='descendant-or-self::body' data='<body id=\"p317\" class=\"page-317 pagel...'>\n",
      "<Selector xpath='descendant-or-self::body' data='<body id=\"p317\" class=\"page-317 pagel...'>\n",
      "<Selector xpath='descendant-or-self::body' data='<body id=\"p317\" class=\"page-317 pagel...'>\n",
      "<Selector xpath='descendant-or-self::body' data='<body id=\"p317\" class=\"page-317 pagel...'>\n",
      "<Selector xpath='descendant-or-self::body' data='<body id=\"p317\" class=\"page-317 pagel...'>\n",
      "<Selector xpath='descendant-or-self::body' data='<body id=\"p317\" class=\"page-317 pagel...'>\n",
      "<Selector xpath='descendant-or-self::body' data='<body id=\"p317\" class=\"page-317 pagel...'>\n",
      "<Selector xpath='descendant-or-self::body' data='<body id=\"p317\" class=\"page-317 pagel...'>\n",
      "<Selector xpath='descendant-or-self::body' data='<body id=\"p317\" class=\"page-317 pagel...'>\n",
      "<Selector xpath='descendant-or-self::body' data='<body id=\"p317\" class=\"page-317 pagel...'>\n",
      "<Selector xpath='descendant-or-self::body' data='<body id=\"p317\" class=\"page-317 pagel...'>\n",
      "<Selector xpath='descendant-or-self::body' data='<body id=\"p317\" class=\"page-317 pagel...'>\n",
      "<Selector xpath='descendant-or-self::body' data='<body id=\"p317\" class=\"page-317 pagel...'>\n",
      "<Selector xpath='descendant-or-self::body' data='<body id=\"p317\" class=\"page-317 pagel...'>\n"
     ]
    },
    {
     "name": "stderr",
     "output_type": "stream",
     "text": [
      "2020-04-04 15:30:26 [scrapy.core.engine] INFO: Closing spider (finished)\n",
      "2020-04-04 15:30:26 [scrapy.extensions.feedexport] INFO: Stored json feed (69 items) in: Linke_twitter.json\n",
      "2020-04-04 15:30:26 [scrapy.statscollectors] INFO: Dumping Scrapy stats:\n",
      "{'downloader/request_bytes': 25317,\n",
      " 'downloader/request_count': 74,\n",
      " 'downloader/request_method_count/GET': 74,\n",
      " 'downloader/response_bytes': 606962,\n",
      " 'downloader/response_count': 74,\n",
      " 'downloader/response_status_count/200': 74,\n",
      " 'elapsed_time_seconds': 5.840172,\n",
      " 'finish_reason': 'finished',\n",
      " 'finish_time': datetime.datetime(2020, 4, 4, 13, 30, 26, 953393),\n",
      " 'item_scraped_count': 69,\n",
      " 'log_count/INFO': 11,\n",
      " 'memusage/max': 70717440,\n",
      " 'memusage/startup': 70717440,\n",
      " 'request_depth_max': 1,\n",
      " 'response_received_count': 74,\n",
      " 'scheduler/dequeued': 74,\n",
      " 'scheduler/dequeued/memory': 74,\n",
      " 'scheduler/enqueued': 74,\n",
      " 'scheduler/enqueued/memory': 74,\n",
      " 'start_time': datetime.datetime(2020, 4, 4, 13, 30, 21, 113221)}\n",
      "2020-04-04 15:30:26 [scrapy.core.engine] INFO: Spider closed (finished)\n"
     ]
    },
    {
     "name": "stdout",
     "output_type": "stream",
     "text": [
      "<Selector xpath='descendant-or-self::body' data='<body id=\"p317\" class=\"page-317 pagel...'>\n",
      "<Selector xpath='descendant-or-self::body' data='<body id=\"p317\" class=\"page-317 pagel...'>\n",
      "<Selector xpath='descendant-or-self::body' data='<body id=\"p317\" class=\"page-317 pagel...'>\n"
     ]
    }
   ],
   "source": [
    "process3 = CrawlerProcess({\n",
    "    'USER_AGENT': 'Mozilla/4.0 (compatible; MSIE 7.0; Windows NT 5.1)'\n",
    "})\n",
    "\n",
    "process3.crawl(LinkeSpider)\n",
    "process3.start()"
   ]
  }
 ],
 "metadata": {
  "kernelspec": {
   "display_name": "Python 3",
   "language": "python",
   "name": "python3"
  },
  "language_info": {
   "codemirror_mode": {
    "name": "ipython",
    "version": 3
   },
   "file_extension": ".py",
   "mimetype": "text/x-python",
   "name": "python",
   "nbconvert_exporter": "python",
   "pygments_lexer": "ipython3",
   "version": "3.6.9"
  }
 },
 "nbformat": 4,
 "nbformat_minor": 2
}
