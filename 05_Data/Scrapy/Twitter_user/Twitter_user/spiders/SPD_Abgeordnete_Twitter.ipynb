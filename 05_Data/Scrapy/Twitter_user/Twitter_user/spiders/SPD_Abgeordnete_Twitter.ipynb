{
 "cells": [
  {
   "cell_type": "markdown",
   "metadata": {},
   "source": [
    "# Downloade Twitter-usernamen aller Unions Abgeordneten\n",
    "\n",
    "__Nach Anleitung (https://www.jitsejan.com/using-scrapy-in-jupyter-notebook.html)__\n",
    "\n",
    "__Fraktionsseite: https://www.spdfraktion.de/abgeordnete/alle?wp=19&view=grid&old=19__"
   ]
  },
  {
   "cell_type": "code",
   "execution_count": 1,
   "metadata": {},
   "outputs": [
    {
     "data": {
      "text/plain": [
       "'3.6.9'"
      ]
     },
     "execution_count": 1,
     "metadata": {},
     "output_type": "execute_result"
    }
   ],
   "source": [
    "# Settings for notebook\n",
    "from IPython.core.interactiveshell import InteractiveShell\n",
    "InteractiveShell.ast_node_interactivity = \"all\"\n",
    "# Show Python version\n",
    "import platform\n",
    "platform.python_version()"
   ]
  },
  {
   "cell_type": "code",
   "execution_count": 2,
   "metadata": {},
   "outputs": [],
   "source": [
    "import json\n",
    "\n",
    "class JsonWriterPipeline(object):\n",
    "\n",
    "    def open_spider(self, spider):\n",
    "        self.file = open('SPD_twitter.json', 'w')\n",
    "\n",
    "    def close_spider(self, spider):\n",
    "        self.file.close()\n",
    "\n",
    "    def process_item(self, item, spider):\n",
    "        line = json.dumps(dict(item)) + \"\\n\"\n",
    "        self.file.write(line)\n",
    "        return item"
   ]
  },
  {
   "cell_type": "code",
   "execution_count": 3,
   "metadata": {},
   "outputs": [],
   "source": [
    "import scrapy\n",
    "from scrapy.crawler import CrawlerProcess\n",
    "import logging\n",
    "\n",
    "\n",
    "\n",
    "class SPDSpider(scrapy.Spider):\n",
    "    name = \"SPD_Abgeordnete_Twitter\"\n",
    "    custom_settings = {\n",
    "        'LOG_LEVEL': logging.WARNING,\n",
    "        'ITEM_PIPELINES': {'__main__.JsonWriterPipeline': 1}, # Used for pipeline 1\n",
    "        'FEED_FORMAT':'json',                                 # Used for pipeline 2\n",
    "        'FEED_URI': 'SPD_twitter.json'                      # Used for pipeline 2\n",
    "    }\n",
    "\n",
    "    def start_requests(self):\n",
    "        urls = [\n",
    "            'https://www.spdfraktion.de/abgeordnete/alle?wp=19&view=grid&old=19',\n",
    "        ]\n",
    "        for url in urls:\n",
    "            yield scrapy.Request(url=url, callback=self.parse)\n",
    "\n",
    "    def parse(self, response):\n",
    "        for delegate in response.css('div.view-content'):\n",
    "            yield {\n",
    "                #'text': delegate.css('li.twitter::text').getall(),\n",
    "                'name': delegate.xpath('//a[contains(@href, \"twitter.com\")]/@href').getall(),\n",
    "            }\n"
   ]
  },
  {
   "cell_type": "code",
   "execution_count": 4,
   "metadata": {},
   "outputs": [
    {
     "name": "stderr",
     "output_type": "stream",
     "text": [
      "2020-04-04 16:07:19 [scrapy.utils.log] INFO: Scrapy 1.7.3 started (bot: scrapybot)\n",
      "2020-04-04 16:07:19 [scrapy.utils.log] INFO: Versions: lxml 4.2.1.0, libxml2 2.9.4, cssselect 1.1.0, parsel 1.5.2, w3lib 1.21.0, Twisted 19.7.0, Python 3.6.9 (default, Nov  7 2019, 10:44:02) - [GCC 8.3.0], pyOpenSSL 19.0.0 (OpenSSL 1.1.1  11 Sep 2018), cryptography 2.1.4, Platform Linux-4.15.0-91-generic-x86_64-with-Ubuntu-18.04-bionic\n",
      "2020-04-04 16:07:19 [scrapy.crawler] INFO: Overridden settings: {'FEED_FORMAT': 'json', 'FEED_URI': 'SPD_twitter.json', 'LOG_LEVEL': 30, 'USER_AGENT': 'Mozilla/4.0 (compatible; MSIE 7.0; Windows NT 5.1)'}\n"
     ]
    },
    {
     "data": {
      "text/plain": [
       "<Deferred at 0x7fa17a2dad30>"
      ]
     },
     "execution_count": 4,
     "metadata": {},
     "output_type": "execute_result"
    }
   ],
   "source": [
    "process3 = CrawlerProcess({\n",
    "    'USER_AGENT': 'Mozilla/4.0 (compatible; MSIE 7.0; Windows NT 5.1)'\n",
    "})\n",
    "\n",
    "process3.crawl(SPDSpider)\n",
    "process3.start()"
   ]
  },
  {
   "cell_type": "code",
   "execution_count": 7,
   "metadata": {},
   "outputs": [],
   "source": [
    "# Kürze Twitter URL mit Regulären Ausdrücken sodass nur noch der Username übrig bleibt\n",
    "\n",
    "import json\n",
    "import re\n",
    "\n",
    "with open(\"SPD_twitter.json\", \"r\") as Union:\n",
    "    data = json.load(Union)\n",
    "\n",
    "twitter_names = []\n",
    "for twitter_url in data['name']:\n",
    "    #print(twitter_url)\n",
    "    twitter_names.append(re.sub(\"http(.|):\\/\\/(www.|)twitter.com\\/\",\"\",twitter_url))\n",
    "\n",
    "with open(\"SPD_twitter_clean.json\", \"w\") as write_file:\n",
    "     json.dump(twitter_names, write_file)\n",
    "    "
   ]
  },
  {
   "cell_type": "code",
   "execution_count": null,
   "metadata": {},
   "outputs": [],
   "source": []
  }
 ],
 "metadata": {
  "kernelspec": {
   "display_name": "Python 3",
   "language": "python",
   "name": "python3"
  },
  "language_info": {
   "codemirror_mode": {
    "name": "ipython",
    "version": 3
   },
   "file_extension": ".py",
   "mimetype": "text/x-python",
   "name": "python",
   "nbconvert_exporter": "python",
   "pygments_lexer": "ipython3",
   "version": "3.6.9"
  }
 },
 "nbformat": 4,
 "nbformat_minor": 2
}
